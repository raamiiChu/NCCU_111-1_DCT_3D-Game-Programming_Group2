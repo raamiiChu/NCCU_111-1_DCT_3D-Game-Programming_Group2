{
  "nbformat": 4,
  "nbformat_minor": 0,
  "metadata": {
    "colab": {
      "provenance": [],
      "include_colab_link": true
    },
    "kernelspec": {
      "name": "python3",
      "display_name": "Python 3"
    },
    "language_info": {
      "name": "python"
    },
    "accelerator": "GPU"
  },
  "cells": [
    {
      "cell_type": "markdown",
      "metadata": {
        "id": "view-in-github",
        "colab_type": "text"
      },
      "source": [
        "<a href=\"https://colab.research.google.com/github/raamiiChu/111-1_NCCU_DCT_3D_Game_Programming_G2/blob/main/G26_%E7%A5%9E%E7%B6%93%E7%B6%B2%E8%B7%AF(DNN).ipynb\" target=\"_parent\"><img src=\"https://colab.research.google.com/assets/colab-badge.svg\" alt=\"Open In Colab\"/></a>"
      ]
    },
    {
      "cell_type": "markdown",
      "source": [
        "## 匯入模組"
      ],
      "metadata": {
        "id": "vKX-kGqLfMeQ"
      }
    },
    {
      "cell_type": "code",
      "source": [
        "from google.colab import drive\n",
        "drive.mount('/content/drive')"
      ],
      "metadata": {
        "colab": {
          "base_uri": "https://localhost:8080/"
        },
        "id": "UmApgRtl_Xpd",
        "outputId": "1b959baf-930b-4963-fa85-7d8b41e8ff59"
      },
      "execution_count": null,
      "outputs": [
        {
          "output_type": "stream",
          "name": "stdout",
          "text": [
            "Mounted at /content/drive\n"
          ]
        }
      ]
    },
    {
      "cell_type": "code",
      "execution_count": null,
      "metadata": {
        "id": "OALdACffeXm7"
      },
      "outputs": [],
      "source": [
        "import torch  # 在本專案中只有轉換資料型態的功能而已\n",
        "\n",
        "from tensorflow.keras.utils import to_categorical  # one hot encoding\n",
        "from tensorflow.keras.models import Sequential  # 函數學習機\n",
        "from tensorflow.keras.layers import Dense  # 隱藏層\n",
        "from tensorflow.keras.optimizers import Adam  # 優化器(學習方法)\n",
        "\n",
        "import numpy as np\n",
        "import pandas as pd"
      ]
    },
    {
      "cell_type": "markdown",
      "source": [
        "## 讀取資料"
      ],
      "metadata": {
        "id": "JKGTdUNbfQ3o"
      }
    },
    {
      "cell_type": "markdown",
      "source": [
        "**函数注解（Function Annotations）**：用於標註函式輸入、輸出的資料型態 \\\n",
        "\n",
        "`def load_data(lang:str, data_type:str) -> np.array:` \\\n",
        "代表輸入皆為字串(str)，輸出為陣列(array) \\\n",
        "\\\n",
        "可以看成： \\\n",
        "`def load_data(lang, data_type):` \\\n",
        "\\\n",
        "相關解說影片：https://www.youtube.com/watch?v=BzBUagNkX1E"
      ],
      "metadata": {
        "id": "vEugsA2LyDqh"
      }
    },
    {
      "cell_type": "code",
      "source": [
        "def load_data(lang:str, data_type:str) -> np.array:\n",
        "    # 讀取檔案，因為路徑有固定格式，因此使用 f-string \n",
        "    path = \"/content/drive/MyDrive/Colab Notebooks/數學軟體應用/期末專案/pt\"\n",
        "    datas = torch.load(f\"{path}/{lang}_{data_type}_emb.pt\")\n",
        "\n",
        "    # 把每筆資料從 torch.tensor 轉成 numpy.array ，並且將維度設定為(256,)\n",
        "    return np.array([data.numpy().reshape(256,) for data in datas])"
      ],
      "metadata": {
        "id": "JZPDKoRJejra"
      },
      "execution_count": null,
      "outputs": []
    },
    {
      "cell_type": "markdown",
      "source": [
        "逐一調取資料，並分配給對應的變數名稱 \\\n",
        "`a, b, c, d, e = [1, 2, 3, 4, 5] \\\n",
        "print(a, b, c, d, e) \\\n",
        "|>>1 2 3 4 5` \\"
      ],
      "metadata": {
        "id": "_z3CDPIGxgF3"
      }
    },
    {
      "cell_type": "code",
      "source": [
        "lang_list = [\"zh\", \"ru\", \"es\", \"de\", \"ar\"]\n",
        "\n",
        "zh_train, ru_train, es_train, de_train, ar_train  = [load_data(lang, \"train\") for lang in lang_list]\n",
        "zh_valid, ru_valid, es_valid, de_valid, ar_valid  = [load_data(lang, \"valid\") for lang in lang_list]\n",
        "zh_test, ru_test, es_test, de_test, ar_test  = [load_data(lang, \"test\") for lang in lang_list]"
      ],
      "metadata": {
        "id": "J2bK8F9yftmZ"
      },
      "execution_count": null,
      "outputs": []
    },
    {
      "cell_type": "markdown",
      "source": [
        "## 檢視資料"
      ],
      "metadata": {
        "id": "2ungvNLXh6n9"
      }
    },
    {
      "cell_type": "code",
      "source": [
        "print(zh_train.shape, ru_train.shape, es_train.shape, de_train.shape, ar_train.shape, sep=\"\\t\")\n",
        "print(zh_valid.shape, ru_valid.shape, es_valid.shape, de_valid.shape, ar_valid.shape, sep=\"\\t\")\n",
        "print(zh_test.shape, ru_test.shape, es_test.shape, de_test.shape, ar_test.shape, sep=\"\\t\")"
      ],
      "metadata": {
        "colab": {
          "base_uri": "https://localhost:8080/"
        },
        "id": "J7LmprrlgqRO",
        "outputId": "78afc825-ca8e-41e5-b936-17a938ee01d5"
      },
      "execution_count": null,
      "outputs": [
        {
          "output_type": "stream",
          "name": "stdout",
          "text": [
            "(22048, 256)\t(15481, 256)\t(20000, 256)\t(20000, 256)\t(14227, 256)\n",
            "(11638, 256)\t(7963, 256)\t(15089, 256)\t(15588, 256)\t(7517, 256)\n",
            "(11655, 256)\t(8007, 256)\t(15089, 256)\t(15588, 256)\t(7622, 256)\n"
          ]
        }
      ]
    },
    {
      "cell_type": "code",
      "source": [
        "zh_train"
      ],
      "metadata": {
        "colab": {
          "base_uri": "https://localhost:8080/"
        },
        "id": "l6Jy6Uuhte1F",
        "outputId": "31546bf1-e45b-4623-e7e2-26e915d5ae2d"
      },
      "execution_count": null,
      "outputs": [
        {
          "output_type": "execute_result",
          "data": {
            "text/plain": [
              "array([[ -0.37338284,   5.0748515 ,  -0.6773103 , ...,   1.8847569 ,\n",
              "          5.486586  ,  -5.299919  ],\n",
              "       [ -2.410383  ,   2.6575012 ,   0.584177  , ...,  -0.09867393,\n",
              "         -0.16986103,  -1.608001  ],\n",
              "       [  2.537675  ,   3.305266  ,  -3.0168207 , ...,   4.127087  ,\n",
              "          4.308145  ,  -7.2403708 ],\n",
              "       ...,\n",
              "       [ -5.355678  ,   2.1825886 ,   4.4823003 , ...,  -3.801538  ,\n",
              "          4.2385287 ,  -5.352148  ],\n",
              "       [ -0.36605218,  -1.2724755 ,  -2.4574277 , ...,  -1.0902072 ,\n",
              "          0.03735523,  -4.465888  ],\n",
              "       [-10.756033  ,  -0.6331    ,   4.7277217 , ...,  -6.9008408 ,\n",
              "          4.7123876 ,  -0.7721901 ]], dtype=float32)"
            ]
          },
          "metadata": {},
          "execution_count": 6
        }
      ]
    },
    {
      "cell_type": "code",
      "source": [
        "zh_train[0].shape"
      ],
      "metadata": {
        "colab": {
          "base_uri": "https://localhost:8080/"
        },
        "id": "E-SabDVQtg6i",
        "outputId": "c082ac75-60ad-4e0b-e60f-c0cb0f7dcb9e"
      },
      "execution_count": null,
      "outputs": [
        {
          "output_type": "execute_result",
          "data": {
            "text/plain": [
              "(256,)"
            ]
          },
          "metadata": {},
          "execution_count": 7
        }
      ]
    },
    {
      "cell_type": "markdown",
      "source": [
        "## 整合資料"
      ],
      "metadata": {
        "id": "3a0Wu6eqnbS5"
      }
    },
    {
      "cell_type": "markdown",
      "source": [
        "#### 調整資料數量(能避免電腦去猜答案，影響準確率)"
      ],
      "metadata": {
        "id": "U9PHnv1Pndt_"
      }
    },
    {
      "cell_type": "code",
      "source": [
        "zh_train = zh_train[:20000]\n",
        "ru_train = np.concatenate((ru_train, ru_train[:4519]))\n",
        "ar_train = np.concatenate((ar_train, ar_train[:5773]))"
      ],
      "metadata": {
        "id": "ibZJMQZtxKeq"
      },
      "execution_count": null,
      "outputs": []
    },
    {
      "cell_type": "code",
      "source": [
        "zh_valid = np.concatenate((zh_valid, zh_valid[:3362]))\n",
        "ru_valid = np.concatenate((ru_valid, ru_valid[:7037]))\n",
        "ar_valid = np.concatenate((ar_valid, ar_valid[:7483]))"
      ],
      "metadata": {
        "id": "3-d836qDyoOo"
      },
      "execution_count": null,
      "outputs": []
    },
    {
      "cell_type": "code",
      "source": [
        "zh_test = np.concatenate((zh_test, zh_test[:3345]))\n",
        "ru_test = np.concatenate((ru_test, ru_test[:6993]))\n",
        "ar_test = np.concatenate((ar_test, ar_test[:7378]))"
      ],
      "metadata": {
        "id": "FrEyYdNNyjYX"
      },
      "execution_count": null,
      "outputs": []
    },
    {
      "cell_type": "markdown",
      "source": [
        "檢視各資料"
      ],
      "metadata": {
        "id": "1ocyQ0YN0JRI"
      }
    },
    {
      "cell_type": "markdown",
      "source": [
        "調整後的數量\n",
        "- train: 20000\n",
        "- valid: 15000\n",
        "- test: 15000\n",
        "\n",
        "註：部分資料的數量，因為原本已經很靠近目標了，因此決定不進行變更"
      ],
      "metadata": {
        "id": "L34UUaHs06bZ"
      }
    },
    {
      "cell_type": "code",
      "source": [
        "print(zh_train.shape, ru_train.shape, es_train.shape, de_train.shape, ar_train.shape, sep=\"\\t\")\n",
        "print(zh_valid.shape, ru_valid.shape, es_valid.shape, de_valid.shape, ar_valid.shape, sep=\"\\t\")\n",
        "print(zh_test.shape, ru_test.shape, es_test.shape, de_test.shape, ar_test.shape, sep=\"\\t\")"
      ],
      "metadata": {
        "colab": {
          "base_uri": "https://localhost:8080/"
        },
        "id": "LyA4mgS30Ios",
        "outputId": "e0196c9d-e0e5-4609-d17f-a5b14edc2a76"
      },
      "execution_count": null,
      "outputs": [
        {
          "output_type": "stream",
          "name": "stdout",
          "text": [
            "(20000, 256)\t(20000, 256)\t(20000, 256)\t(20000, 256)\t(20000, 256)\n",
            "(15000, 256)\t(15000, 256)\t(15089, 256)\t(15588, 256)\t(15000, 256)\n",
            "(15000, 256)\t(15000, 256)\t(15089, 256)\t(15588, 256)\t(15000, 256)\n"
          ]
        }
      ]
    },
    {
      "cell_type": "markdown",
      "source": [
        "#### 合併資料"
      ],
      "metadata": {
        "id": "LraOI47vpTUT"
      }
    },
    {
      "cell_type": "markdown",
      "source": [
        "將 x 值合併"
      ],
      "metadata": {
        "id": "DXGwn7vPveym"
      }
    },
    {
      "cell_type": "code",
      "source": [
        "x_train = np.concatenate((zh_train, ru_train, es_train, de_train, ar_train))\n",
        "x_valid = np.concatenate((zh_valid, ru_valid, es_valid, de_valid, ar_valid))\n",
        "x_test = np.concatenate((zh_test, ru_test, es_test, de_test, ar_test))"
      ],
      "metadata": {
        "id": "wj_FaRHzpXKw"
      },
      "execution_count": null,
      "outputs": []
    },
    {
      "cell_type": "markdown",
      "source": [
        "依據各個語言的資料長度，生成對應的 y 值"
      ],
      "metadata": {
        "id": "Mrk9aApFvsBC"
      }
    },
    {
      "cell_type": "code",
      "source": [
        "# [\"zh\", \"ru\", \"es\", \"de\", \"ar\"]\n",
        "y_train = np.array([0]*zh_train.shape[0] + [1]*ru_train.shape[0] + [2]*es_train.shape[0] + [3]*de_train.shape[0] + [4]*ar_train.shape[0])\n",
        "y_valid = np.array([0]*zh_valid.shape[0] + [1]*ru_valid.shape[0] + [2]*es_valid.shape[0] + [3]*de_valid.shape[0] + [4]*ar_valid.shape[0])\n",
        "y_test = np.array([0]*zh_test.shape[0] + [1]*ru_test.shape[0] + [2]*es_test.shape[0] + [3]*de_test.shape[0] + [4]*ar_test.shape[0])"
      ],
      "metadata": {
        "id": "Kno-zRi0pdXZ"
      },
      "execution_count": null,
      "outputs": []
    },
    {
      "cell_type": "markdown",
      "source": [
        "將 y 值 one hot encoding \\\n",
        "因為語言有 5 種，所以參數要填 5"
      ],
      "metadata": {
        "id": "AfS7wTiZv6Py"
      }
    },
    {
      "cell_type": "code",
      "source": [
        "y_train = to_categorical(y_train, 5)\n",
        "y_valid = to_categorical(y_valid, 5)\n",
        "y_test = to_categorical(y_test, 5)"
      ],
      "metadata": {
        "id": "VQ8Lzu5PuGPw"
      },
      "execution_count": null,
      "outputs": []
    },
    {
      "cell_type": "markdown",
      "source": [
        "檢視各資料的維度"
      ],
      "metadata": {
        "id": "7f31O82pwRZk"
      }
    },
    {
      "cell_type": "code",
      "source": [
        "print(x_train.shape, x_valid.shape, x_test.shape, sep=\"\\t\")\n",
        "print(y_train.shape, y_valid.shape, y_test.shape, sep=\"\\t\")"
      ],
      "metadata": {
        "colab": {
          "base_uri": "https://localhost:8080/"
        },
        "id": "_Cy3mt5Ct1WO",
        "outputId": "ca00d4c7-412d-4719-898f-cff592b7e2ce"
      },
      "execution_count": null,
      "outputs": [
        {
          "output_type": "stream",
          "name": "stdout",
          "text": [
            "(100000, 256)\t(75677, 256)\t(75677, 256)\n",
            "(100000, 5)\t(75677, 5)\t(75677, 5)\n"
          ]
        }
      ]
    },
    {
      "cell_type": "markdown",
      "source": [
        "## 組裝神經網路"
      ],
      "metadata": {
        "id": "Kjjy5YWGkukA"
      }
    },
    {
      "cell_type": "code",
      "source": [
        "model = Sequential()\n",
        "model.add(Dense(256,input_shape=(256,), activation='relu'))  # 每筆資料的維度為 (256,)\n",
        "model.add(Dense(512, activation='relu'))\n",
        "model.add(Dense(1024, activation='relu'))\n",
        "model.add(Dense(5, activation='softmax'))  # 5 個結果，所以輸出層的參數為 5"
      ],
      "metadata": {
        "id": "iUHqsYoKk04K"
      },
      "execution_count": null,
      "outputs": []
    },
    {
      "cell_type": "markdown",
      "source": [
        "因為具有分類性質，因此 loss function 選擇 \"categorical_crossentropy\""
      ],
      "metadata": {
        "id": "r1dewfvTlWsZ"
      }
    },
    {
      "cell_type": "code",
      "source": [
        "model.compile(loss='categorical_crossentropy',\n",
        "              optimizer=Adam(learning_rate=0.005), \n",
        "              metrics=['accuracy'])"
      ],
      "metadata": {
        "id": "FGnvFl6ylESj"
      },
      "execution_count": null,
      "outputs": []
    },
    {
      "cell_type": "markdown",
      "source": [
        "觀看神經網路"
      ],
      "metadata": {
        "id": "Y8O7kpy_lmG2"
      }
    },
    {
      "cell_type": "code",
      "source": [
        "model.summary()"
      ],
      "metadata": {
        "id": "rdhCNS9SllPP",
        "colab": {
          "base_uri": "https://localhost:8080/"
        },
        "outputId": "70d6c821-3726-411f-d69d-3e4daf09174e"
      },
      "execution_count": null,
      "outputs": [
        {
          "output_type": "stream",
          "name": "stdout",
          "text": [
            "Model: \"sequential\"\n",
            "_________________________________________________________________\n",
            " Layer (type)                Output Shape              Param #   \n",
            "=================================================================\n",
            " dense (Dense)               (None, 256)               65792     \n",
            "                                                                 \n",
            " dense_1 (Dense)             (None, 512)               131584    \n",
            "                                                                 \n",
            " dense_2 (Dense)             (None, 1024)              525312    \n",
            "                                                                 \n",
            " dense_3 (Dense)             (None, 5)                 5125      \n",
            "                                                                 \n",
            "=================================================================\n",
            "Total params: 727,813\n",
            "Trainable params: 727,813\n",
            "Non-trainable params: 0\n",
            "_________________________________________________________________\n"
          ]
        }
      ]
    },
    {
      "cell_type": "markdown",
      "source": [
        "## 訓練"
      ],
      "metadata": {
        "id": "uBRBE61XsNow"
      }
    },
    {
      "cell_type": "code",
      "source": [
        "model.fit(x_train, y_train, batch_size=20, epochs=10,\n",
        "          validation_data=(x_valid, y_valid))"
      ],
      "metadata": {
        "colab": {
          "base_uri": "https://localhost:8080/"
        },
        "id": "2YGzMJY8sOKz",
        "outputId": "1efff052-2b68-489c-b3ba-1b256cdadde9"
      },
      "execution_count": null,
      "outputs": [
        {
          "output_type": "stream",
          "name": "stdout",
          "text": [
            "Epoch 1/10\n",
            "5000/5000 [==============================] - 26s 5ms/step - loss: 0.1520 - accuracy: 0.9627 - val_loss: 0.3337 - val_accuracy: 0.9669\n",
            "Epoch 2/10\n",
            "5000/5000 [==============================] - 23s 5ms/step - loss: 0.0966 - accuracy: 0.9729 - val_loss: 0.1326 - val_accuracy: 0.9583\n",
            "Epoch 3/10\n",
            "5000/5000 [==============================] - 19s 4ms/step - loss: 0.1450 - accuracy: 0.9739 - val_loss: 0.1786 - val_accuracy: 0.9677\n",
            "Epoch 4/10\n",
            "5000/5000 [==============================] - 23s 5ms/step - loss: 0.0851 - accuracy: 0.9765 - val_loss: 0.2064 - val_accuracy: 0.9639\n",
            "Epoch 5/10\n",
            "5000/5000 [==============================] - 20s 4ms/step - loss: 0.1029 - accuracy: 0.9756 - val_loss: 0.1626 - val_accuracy: 0.9656\n",
            "Epoch 6/10\n",
            "5000/5000 [==============================] - 20s 4ms/step - loss: 0.0895 - accuracy: 0.9772 - val_loss: 0.1522 - val_accuracy: 0.9609\n",
            "Epoch 7/10\n",
            "5000/5000 [==============================] - 19s 4ms/step - loss: 0.0939 - accuracy: 0.9780 - val_loss: 0.1369 - val_accuracy: 0.9693\n",
            "Epoch 8/10\n",
            "5000/5000 [==============================] - 20s 4ms/step - loss: 0.0798 - accuracy: 0.9776 - val_loss: 0.1420 - val_accuracy: 0.9654\n",
            "Epoch 9/10\n",
            "5000/5000 [==============================] - 20s 4ms/step - loss: 0.0817 - accuracy: 0.9788 - val_loss: 0.1247 - val_accuracy: 0.9695\n",
            "Epoch 10/10\n",
            "5000/5000 [==============================] - 20s 4ms/step - loss: 0.0848 - accuracy: 0.9784 - val_loss: 0.2107 - val_accuracy: 0.9636\n"
          ]
        },
        {
          "output_type": "execute_result",
          "data": {
            "text/plain": [
              "<keras.callbacks.History at 0x7fa8b783cd50>"
            ]
          },
          "metadata": {},
          "execution_count": 19
        }
      ]
    },
    {
      "cell_type": "markdown",
      "source": [
        "## 預測"
      ],
      "metadata": {
        "id": "w_AbLXGxsTUq"
      }
    },
    {
      "cell_type": "code",
      "source": [
        "score = model.evaluate(x_test, y_test, batch_size=1)"
      ],
      "metadata": {
        "colab": {
          "base_uri": "https://localhost:8080/"
        },
        "id": "6UpGqGmrWhrN",
        "outputId": "858e75ff-561b-4f33-c4ec-dedd803b2d02"
      },
      "execution_count": null,
      "outputs": [
        {
          "output_type": "stream",
          "name": "stdout",
          "text": [
            "75677/75677 [==============================] - 177s 2ms/step - loss: 0.2965 - accuracy: 0.9521\n"
          ]
        }
      ]
    },
    {
      "cell_type": "code",
      "source": [
        "y_predict = np.argmax(model.predict(x_test), axis=-1)"
      ],
      "metadata": {
        "id": "OpAqldElsYdR"
      },
      "execution_count": null,
      "outputs": []
    },
    {
      "cell_type": "code",
      "source": [
        "n = 33000\n",
        "print(np.argmax(y_test[n]), y_predict[n], sep=\"|\")"
      ],
      "metadata": {
        "colab": {
          "base_uri": "https://localhost:8080/"
        },
        "id": "U3bMreicse_-",
        "outputId": "8a959b5f-3d07-430e-ac5b-30c0cccb6aeb"
      },
      "execution_count": null,
      "outputs": [
        {
          "output_type": "stream",
          "name": "stdout",
          "text": [
            "2|2\n"
          ]
        }
      ]
    },
    {
      "cell_type": "markdown",
      "source": [
        "## 儲存"
      ],
      "metadata": {
        "id": "QLzUffE3syyr"
      }
    },
    {
      "cell_type": "code",
      "source": [
        "# model_path = \"/content/drive/MyDrive/Colab Notebooks/數學軟體應用/期末專案/Group26_audio_classification_model\"\n",
        "# model.save(model_path)"
      ],
      "metadata": {
        "colab": {
          "base_uri": "https://localhost:8080/"
        },
        "id": "Cv6NTG_ws3CC",
        "outputId": "94431f9c-689f-49e9-a76c-cdcb6192bee7"
      },
      "execution_count": null,
      "outputs": [
        {
          "output_type": "stream",
          "name": "stdout",
          "text": [
            "INFO:tensorflow:Assets written to: /content/drive/Shareddrives/數軟#26/Group26_audio_classification_model/assets\n"
          ]
        }
      ]
    }
  ]
}