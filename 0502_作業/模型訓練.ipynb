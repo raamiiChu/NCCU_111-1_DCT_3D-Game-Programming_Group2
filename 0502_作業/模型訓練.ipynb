{
  "nbformat": 4,
  "nbformat_minor": 0,
  "metadata": {
    "kernelspec": {
      "display_name": "Python 3",
      "language": "python",
      "name": "python3"
    },
    "language_info": {
      "codemirror_mode": {
        "name": "ipython",
        "version": 3
      },
      "file_extension": ".py",
      "mimetype": "text/x-python",
      "name": "python",
      "nbconvert_exporter": "python",
      "pygments_lexer": "ipython3",
      "version": "3.7.3"
    },
    "colab": {
      "provenance": [],
      "collapsed_sections": [
        "pU0MI3Jm-vej",
        "upzJSb2Y-vek",
        "kY0bt0Mv-veo",
        "gLw1t5YZ-vep",
        "O19zWWcl-veq",
        "qQ9uuTiji5ya",
        "jPLBfzQl_myh",
        "5CX5z6xG_qJs",
        "qKNqM34x-ver"
      ],
      "include_colab_link": true
    },
    "accelerator": "GPU",
    "widgets": {
      "application/vnd.jupyter.widget-state+json": {
        "f4e1ea7da768467fbb3f39c54cf33adf": {
          "model_module": "@jupyter-widgets/controls",
          "model_name": "VBoxModel",
          "model_module_version": "1.5.0",
          "state": {
            "_dom_classes": [
              "widget-interact"
            ],
            "_model_module": "@jupyter-widgets/controls",
            "_model_module_version": "1.5.0",
            "_model_name": "VBoxModel",
            "_view_count": null,
            "_view_module": "@jupyter-widgets/controls",
            "_view_module_version": "1.5.0",
            "_view_name": "VBoxView",
            "box_style": "",
            "children": [
              "IPY_MODEL_b7f7ccb7cfef493d83f9f0b25be7b23c",
              "IPY_MODEL_0146a40e356c491998f0732f48d56a26",
              "IPY_MODEL_484091fc72664b04a3e0e6a013eb5fa1"
            ],
            "layout": "IPY_MODEL_d8b143df15bb4bc79fbffa9ea5a364cc"
          }
        },
        "b7f7ccb7cfef493d83f9f0b25be7b23c": {
          "model_module": "@jupyter-widgets/controls",
          "model_name": "IntSliderModel",
          "model_module_version": "1.5.0",
          "state": {
            "_dom_classes": [],
            "_model_module": "@jupyter-widgets/controls",
            "_model_module_version": "1.5.0",
            "_model_name": "IntSliderModel",
            "_view_count": null,
            "_view_module": "@jupyter-widgets/controls",
            "_view_module_version": "1.5.0",
            "_view_name": "IntSliderView",
            "continuous_update": true,
            "description": "num",
            "description_tooltip": null,
            "disabled": false,
            "layout": "IPY_MODEL_f7ae1140599646199839a527f80db124",
            "max": 24999,
            "min": 0,
            "orientation": "horizontal",
            "readout": true,
            "readout_format": "d",
            "step": 1,
            "style": "IPY_MODEL_91db31930d0c4b1e90db6d0282e08e0a",
            "value": 17819
          }
        },
        "0146a40e356c491998f0732f48d56a26": {
          "model_module": "@jupyter-widgets/controls",
          "model_name": "ButtonModel",
          "model_module_version": "1.5.0",
          "state": {
            "_dom_classes": [],
            "_model_module": "@jupyter-widgets/controls",
            "_model_module_version": "1.5.0",
            "_model_name": "ButtonModel",
            "_view_count": null,
            "_view_module": "@jupyter-widgets/controls",
            "_view_module_version": "1.5.0",
            "_view_name": "ButtonView",
            "button_style": "",
            "description": "Run Interact",
            "disabled": false,
            "icon": "",
            "layout": "IPY_MODEL_b8e37244f4cd45e584114229afff1448",
            "style": "IPY_MODEL_0976235c8f064cabb316d5dfa5e40fa7",
            "tooltip": ""
          }
        },
        "484091fc72664b04a3e0e6a013eb5fa1": {
          "model_module": "@jupyter-widgets/output",
          "model_name": "OutputModel",
          "model_module_version": "1.0.0",
          "state": {
            "_dom_classes": [],
            "_model_module": "@jupyter-widgets/output",
            "_model_module_version": "1.0.0",
            "_model_name": "OutputModel",
            "_view_count": null,
            "_view_module": "@jupyter-widgets/output",
            "_view_module_version": "1.0.0",
            "_view_name": "OutputView",
            "layout": "IPY_MODEL_54731404694648ffb67a015555172b77",
            "msg_id": "",
            "outputs": [
              {
                "output_type": "display_data",
                "data": {
                  "text/plain": "\"? if you have beloved actors peter falk rip torn george segal and bill ? you don't need billy burke coolio or any other distractions massive talent is totally wasted in three days to vegas with the blame falling squarely on the script my neighbor's vacation films are about as interesting as this misguided road movie if you want to see how to utilize a veteran cast with a good script check out the crew there really are no redeeming factors here and watching these wonderful actors struggling with such weak material is a crime i wanted to like it but the shallow script cheats the audience by essentially giving the actors nothing to work with merk\"",
                  "application/vnd.google.colaboratory.intrinsic+json": {
                    "type": "string"
                  }
                },
                "metadata": {}
              }
            ]
          }
        },
        "d8b143df15bb4bc79fbffa9ea5a364cc": {
          "model_module": "@jupyter-widgets/base",
          "model_name": "LayoutModel",
          "model_module_version": "1.2.0",
          "state": {
            "_model_module": "@jupyter-widgets/base",
            "_model_module_version": "1.2.0",
            "_model_name": "LayoutModel",
            "_view_count": null,
            "_view_module": "@jupyter-widgets/base",
            "_view_module_version": "1.2.0",
            "_view_name": "LayoutView",
            "align_content": null,
            "align_items": null,
            "align_self": null,
            "border": null,
            "bottom": null,
            "display": null,
            "flex": null,
            "flex_flow": null,
            "grid_area": null,
            "grid_auto_columns": null,
            "grid_auto_flow": null,
            "grid_auto_rows": null,
            "grid_column": null,
            "grid_gap": null,
            "grid_row": null,
            "grid_template_areas": null,
            "grid_template_columns": null,
            "grid_template_rows": null,
            "height": null,
            "justify_content": null,
            "justify_items": null,
            "left": null,
            "margin": null,
            "max_height": null,
            "max_width": null,
            "min_height": null,
            "min_width": null,
            "object_fit": null,
            "object_position": null,
            "order": null,
            "overflow": null,
            "overflow_x": null,
            "overflow_y": null,
            "padding": null,
            "right": null,
            "top": null,
            "visibility": null,
            "width": null
          }
        },
        "f7ae1140599646199839a527f80db124": {
          "model_module": "@jupyter-widgets/base",
          "model_name": "LayoutModel",
          "model_module_version": "1.2.0",
          "state": {
            "_model_module": "@jupyter-widgets/base",
            "_model_module_version": "1.2.0",
            "_model_name": "LayoutModel",
            "_view_count": null,
            "_view_module": "@jupyter-widgets/base",
            "_view_module_version": "1.2.0",
            "_view_name": "LayoutView",
            "align_content": null,
            "align_items": null,
            "align_self": null,
            "border": null,
            "bottom": null,
            "display": null,
            "flex": null,
            "flex_flow": null,
            "grid_area": null,
            "grid_auto_columns": null,
            "grid_auto_flow": null,
            "grid_auto_rows": null,
            "grid_column": null,
            "grid_gap": null,
            "grid_row": null,
            "grid_template_areas": null,
            "grid_template_columns": null,
            "grid_template_rows": null,
            "height": null,
            "justify_content": null,
            "justify_items": null,
            "left": null,
            "margin": null,
            "max_height": null,
            "max_width": null,
            "min_height": null,
            "min_width": null,
            "object_fit": null,
            "object_position": null,
            "order": null,
            "overflow": null,
            "overflow_x": null,
            "overflow_y": null,
            "padding": null,
            "right": null,
            "top": null,
            "visibility": null,
            "width": null
          }
        },
        "91db31930d0c4b1e90db6d0282e08e0a": {
          "model_module": "@jupyter-widgets/controls",
          "model_name": "SliderStyleModel",
          "model_module_version": "1.5.0",
          "state": {
            "_model_module": "@jupyter-widgets/controls",
            "_model_module_version": "1.5.0",
            "_model_name": "SliderStyleModel",
            "_view_count": null,
            "_view_module": "@jupyter-widgets/base",
            "_view_module_version": "1.2.0",
            "_view_name": "StyleView",
            "description_width": "",
            "handle_color": null
          }
        },
        "b8e37244f4cd45e584114229afff1448": {
          "model_module": "@jupyter-widgets/base",
          "model_name": "LayoutModel",
          "model_module_version": "1.2.0",
          "state": {
            "_model_module": "@jupyter-widgets/base",
            "_model_module_version": "1.2.0",
            "_model_name": "LayoutModel",
            "_view_count": null,
            "_view_module": "@jupyter-widgets/base",
            "_view_module_version": "1.2.0",
            "_view_name": "LayoutView",
            "align_content": null,
            "align_items": null,
            "align_self": null,
            "border": null,
            "bottom": null,
            "display": null,
            "flex": null,
            "flex_flow": null,
            "grid_area": null,
            "grid_auto_columns": null,
            "grid_auto_flow": null,
            "grid_auto_rows": null,
            "grid_column": null,
            "grid_gap": null,
            "grid_row": null,
            "grid_template_areas": null,
            "grid_template_columns": null,
            "grid_template_rows": null,
            "height": null,
            "justify_content": null,
            "justify_items": null,
            "left": null,
            "margin": null,
            "max_height": null,
            "max_width": null,
            "min_height": null,
            "min_width": null,
            "object_fit": null,
            "object_position": null,
            "order": null,
            "overflow": null,
            "overflow_x": null,
            "overflow_y": null,
            "padding": null,
            "right": null,
            "top": null,
            "visibility": null,
            "width": null
          }
        },
        "0976235c8f064cabb316d5dfa5e40fa7": {
          "model_module": "@jupyter-widgets/controls",
          "model_name": "ButtonStyleModel",
          "model_module_version": "1.5.0",
          "state": {
            "_model_module": "@jupyter-widgets/controls",
            "_model_module_version": "1.5.0",
            "_model_name": "ButtonStyleModel",
            "_view_count": null,
            "_view_module": "@jupyter-widgets/base",
            "_view_module_version": "1.2.0",
            "_view_name": "StyleView",
            "button_color": null,
            "font_weight": ""
          }
        },
        "54731404694648ffb67a015555172b77": {
          "model_module": "@jupyter-widgets/base",
          "model_name": "LayoutModel",
          "model_module_version": "1.2.0",
          "state": {
            "_model_module": "@jupyter-widgets/base",
            "_model_module_version": "1.2.0",
            "_model_name": "LayoutModel",
            "_view_count": null,
            "_view_module": "@jupyter-widgets/base",
            "_view_module_version": "1.2.0",
            "_view_name": "LayoutView",
            "align_content": null,
            "align_items": null,
            "align_self": null,
            "border": null,
            "bottom": null,
            "display": null,
            "flex": null,
            "flex_flow": null,
            "grid_area": null,
            "grid_auto_columns": null,
            "grid_auto_flow": null,
            "grid_auto_rows": null,
            "grid_column": null,
            "grid_gap": null,
            "grid_row": null,
            "grid_template_areas": null,
            "grid_template_columns": null,
            "grid_template_rows": null,
            "height": null,
            "justify_content": null,
            "justify_items": null,
            "left": null,
            "margin": null,
            "max_height": null,
            "max_width": null,
            "min_height": null,
            "min_width": null,
            "object_fit": null,
            "object_position": null,
            "order": null,
            "overflow": null,
            "overflow_x": null,
            "overflow_y": null,
            "padding": null,
            "right": null,
            "top": null,
            "visibility": null,
            "width": null
          }
        },
        "cc6067f6c9f04cac8e6bbea51effabf0": {
          "model_module": "@jupyter-widgets/controls",
          "model_name": "VBoxModel",
          "model_module_version": "1.5.0",
          "state": {
            "_dom_classes": [
              "widget-interact"
            ],
            "_model_module": "@jupyter-widgets/controls",
            "_model_module_version": "1.5.0",
            "_model_name": "VBoxModel",
            "_view_count": null,
            "_view_module": "@jupyter-widgets/controls",
            "_view_module_version": "1.5.0",
            "_view_name": "VBoxView",
            "box_style": "",
            "children": [
              "IPY_MODEL_8d2fa3032a194ed3985e10eb49c82058",
              "IPY_MODEL_fe1089af1c8c495d9cb3b552b35b81ef",
              "IPY_MODEL_1c837fc2fbf64be18ec83b8bb3b7564c"
            ],
            "layout": "IPY_MODEL_9da12cbf637b4654acab7b2699c78ad0"
          }
        },
        "8d2fa3032a194ed3985e10eb49c82058": {
          "model_module": "@jupyter-widgets/controls",
          "model_name": "TextModel",
          "model_module_version": "1.5.0",
          "state": {
            "_dom_classes": [],
            "_model_module": "@jupyter-widgets/controls",
            "_model_module_version": "1.5.0",
            "_model_name": "TextModel",
            "_view_count": null,
            "_view_module": "@jupyter-widgets/controls",
            "_view_module_version": "1.5.0",
            "_view_name": "TextView",
            "continuous_update": true,
            "description": "text",
            "description_tooltip": null,
            "disabled": false,
            "layout": "IPY_MODEL_28d0ff67401b42c1ac58c96b2dac9244",
            "placeholder": "​",
            "style": "IPY_MODEL_7990c332c28c47258008e9d434e8561f",
            "value": "this movie is worth seeing"
          }
        },
        "fe1089af1c8c495d9cb3b552b35b81ef": {
          "model_module": "@jupyter-widgets/controls",
          "model_name": "ButtonModel",
          "model_module_version": "1.5.0",
          "state": {
            "_dom_classes": [],
            "_model_module": "@jupyter-widgets/controls",
            "_model_module_version": "1.5.0",
            "_model_name": "ButtonModel",
            "_view_count": null,
            "_view_module": "@jupyter-widgets/controls",
            "_view_module_version": "1.5.0",
            "_view_name": "ButtonView",
            "button_style": "",
            "description": "Run Interact",
            "disabled": false,
            "icon": "",
            "layout": "IPY_MODEL_4ea7a05635784209a2bc2a9fa29d1448",
            "style": "IPY_MODEL_b5ac82287dc04c0787c3e7665981c313",
            "tooltip": ""
          }
        },
        "1c837fc2fbf64be18ec83b8bb3b7564c": {
          "model_module": "@jupyter-widgets/output",
          "model_name": "OutputModel",
          "model_module_version": "1.0.0",
          "state": {
            "_dom_classes": [],
            "_model_module": "@jupyter-widgets/output",
            "_model_module_version": "1.0.0",
            "_model_name": "OutputModel",
            "_view_count": null,
            "_view_module": "@jupyter-widgets/output",
            "_view_module_version": "1.0.0",
            "_view_name": "OutputView",
            "layout": "IPY_MODEL_f691f6560e7348a2b5210a1e2dfa6e6f",
            "msg_id": "",
            "outputs": [
              {
                "output_type": "display_data",
                "data": {
                  "text/plain": "'score: 0.984'",
                  "application/vnd.google.colaboratory.intrinsic+json": {
                    "type": "string"
                  }
                },
                "metadata": {}
              }
            ]
          }
        },
        "9da12cbf637b4654acab7b2699c78ad0": {
          "model_module": "@jupyter-widgets/base",
          "model_name": "LayoutModel",
          "model_module_version": "1.2.0",
          "state": {
            "_model_module": "@jupyter-widgets/base",
            "_model_module_version": "1.2.0",
            "_model_name": "LayoutModel",
            "_view_count": null,
            "_view_module": "@jupyter-widgets/base",
            "_view_module_version": "1.2.0",
            "_view_name": "LayoutView",
            "align_content": null,
            "align_items": null,
            "align_self": null,
            "border": null,
            "bottom": null,
            "display": null,
            "flex": null,
            "flex_flow": null,
            "grid_area": null,
            "grid_auto_columns": null,
            "grid_auto_flow": null,
            "grid_auto_rows": null,
            "grid_column": null,
            "grid_gap": null,
            "grid_row": null,
            "grid_template_areas": null,
            "grid_template_columns": null,
            "grid_template_rows": null,
            "height": null,
            "justify_content": null,
            "justify_items": null,
            "left": null,
            "margin": null,
            "max_height": null,
            "max_width": null,
            "min_height": null,
            "min_width": null,
            "object_fit": null,
            "object_position": null,
            "order": null,
            "overflow": null,
            "overflow_x": null,
            "overflow_y": null,
            "padding": null,
            "right": null,
            "top": null,
            "visibility": null,
            "width": null
          }
        },
        "28d0ff67401b42c1ac58c96b2dac9244": {
          "model_module": "@jupyter-widgets/base",
          "model_name": "LayoutModel",
          "model_module_version": "1.2.0",
          "state": {
            "_model_module": "@jupyter-widgets/base",
            "_model_module_version": "1.2.0",
            "_model_name": "LayoutModel",
            "_view_count": null,
            "_view_module": "@jupyter-widgets/base",
            "_view_module_version": "1.2.0",
            "_view_name": "LayoutView",
            "align_content": null,
            "align_items": null,
            "align_self": null,
            "border": null,
            "bottom": null,
            "display": null,
            "flex": null,
            "flex_flow": null,
            "grid_area": null,
            "grid_auto_columns": null,
            "grid_auto_flow": null,
            "grid_auto_rows": null,
            "grid_column": null,
            "grid_gap": null,
            "grid_row": null,
            "grid_template_areas": null,
            "grid_template_columns": null,
            "grid_template_rows": null,
            "height": null,
            "justify_content": null,
            "justify_items": null,
            "left": null,
            "margin": null,
            "max_height": null,
            "max_width": null,
            "min_height": null,
            "min_width": null,
            "object_fit": null,
            "object_position": null,
            "order": null,
            "overflow": null,
            "overflow_x": null,
            "overflow_y": null,
            "padding": null,
            "right": null,
            "top": null,
            "visibility": null,
            "width": null
          }
        },
        "7990c332c28c47258008e9d434e8561f": {
          "model_module": "@jupyter-widgets/controls",
          "model_name": "DescriptionStyleModel",
          "model_module_version": "1.5.0",
          "state": {
            "_model_module": "@jupyter-widgets/controls",
            "_model_module_version": "1.5.0",
            "_model_name": "DescriptionStyleModel",
            "_view_count": null,
            "_view_module": "@jupyter-widgets/base",
            "_view_module_version": "1.2.0",
            "_view_name": "StyleView",
            "description_width": ""
          }
        },
        "4ea7a05635784209a2bc2a9fa29d1448": {
          "model_module": "@jupyter-widgets/base",
          "model_name": "LayoutModel",
          "model_module_version": "1.2.0",
          "state": {
            "_model_module": "@jupyter-widgets/base",
            "_model_module_version": "1.2.0",
            "_model_name": "LayoutModel",
            "_view_count": null,
            "_view_module": "@jupyter-widgets/base",
            "_view_module_version": "1.2.0",
            "_view_name": "LayoutView",
            "align_content": null,
            "align_items": null,
            "align_self": null,
            "border": null,
            "bottom": null,
            "display": null,
            "flex": null,
            "flex_flow": null,
            "grid_area": null,
            "grid_auto_columns": null,
            "grid_auto_flow": null,
            "grid_auto_rows": null,
            "grid_column": null,
            "grid_gap": null,
            "grid_row": null,
            "grid_template_areas": null,
            "grid_template_columns": null,
            "grid_template_rows": null,
            "height": null,
            "justify_content": null,
            "justify_items": null,
            "left": null,
            "margin": null,
            "max_height": null,
            "max_width": null,
            "min_height": null,
            "min_width": null,
            "object_fit": null,
            "object_position": null,
            "order": null,
            "overflow": null,
            "overflow_x": null,
            "overflow_y": null,
            "padding": null,
            "right": null,
            "top": null,
            "visibility": null,
            "width": null
          }
        },
        "b5ac82287dc04c0787c3e7665981c313": {
          "model_module": "@jupyter-widgets/controls",
          "model_name": "ButtonStyleModel",
          "model_module_version": "1.5.0",
          "state": {
            "_model_module": "@jupyter-widgets/controls",
            "_model_module_version": "1.5.0",
            "_model_name": "ButtonStyleModel",
            "_view_count": null,
            "_view_module": "@jupyter-widgets/base",
            "_view_module_version": "1.2.0",
            "_view_name": "StyleView",
            "button_color": null,
            "font_weight": ""
          }
        },
        "f691f6560e7348a2b5210a1e2dfa6e6f": {
          "model_module": "@jupyter-widgets/base",
          "model_name": "LayoutModel",
          "model_module_version": "1.2.0",
          "state": {
            "_model_module": "@jupyter-widgets/base",
            "_model_module_version": "1.2.0",
            "_model_name": "LayoutModel",
            "_view_count": null,
            "_view_module": "@jupyter-widgets/base",
            "_view_module_version": "1.2.0",
            "_view_name": "LayoutView",
            "align_content": null,
            "align_items": null,
            "align_self": null,
            "border": null,
            "bottom": null,
            "display": null,
            "flex": null,
            "flex_flow": null,
            "grid_area": null,
            "grid_auto_columns": null,
            "grid_auto_flow": null,
            "grid_auto_rows": null,
            "grid_column": null,
            "grid_gap": null,
            "grid_row": null,
            "grid_template_areas": null,
            "grid_template_columns": null,
            "grid_template_rows": null,
            "height": null,
            "justify_content": null,
            "justify_items": null,
            "left": null,
            "margin": null,
            "max_height": null,
            "max_width": null,
            "min_height": null,
            "min_width": null,
            "object_fit": null,
            "object_position": null,
            "order": null,
            "overflow": null,
            "overflow_x": null,
            "overflow_y": null,
            "padding": null,
            "right": null,
            "top": null,
            "visibility": null,
            "width": null
          }
        },
        "45c472dd5b0a486cbb99c2486d24494b": {
          "model_module": "@jupyter-widgets/controls",
          "model_name": "VBoxModel",
          "model_module_version": "1.5.0",
          "state": {
            "_dom_classes": [
              "widget-interact"
            ],
            "_model_module": "@jupyter-widgets/controls",
            "_model_module_version": "1.5.0",
            "_model_name": "VBoxModel",
            "_view_count": null,
            "_view_module": "@jupyter-widgets/controls",
            "_view_module_version": "1.5.0",
            "_view_name": "VBoxView",
            "box_style": "",
            "children": [
              "IPY_MODEL_6b49aa992107453d91f66f62452b52e1",
              "IPY_MODEL_4d071e49ee6f4d59864353257c1d666d",
              "IPY_MODEL_dc349979f3af44a5a3f47187c9c91f1c"
            ],
            "layout": "IPY_MODEL_5c99bef79ab6457785b08569df39d1d4"
          }
        },
        "6b49aa992107453d91f66f62452b52e1": {
          "model_module": "@jupyter-widgets/controls",
          "model_name": "IntSliderModel",
          "model_module_version": "1.5.0",
          "state": {
            "_dom_classes": [],
            "_model_module": "@jupyter-widgets/controls",
            "_model_module_version": "1.5.0",
            "_model_name": "IntSliderModel",
            "_view_count": null,
            "_view_module": "@jupyter-widgets/controls",
            "_view_module_version": "1.5.0",
            "_view_name": "IntSliderView",
            "continuous_update": true,
            "description": "num",
            "description_tooltip": null,
            "disabled": false,
            "layout": "IPY_MODEL_76a5c7be1d334b978f827bd0fca17ef3",
            "max": 24999,
            "min": 0,
            "orientation": "horizontal",
            "readout": true,
            "readout_format": "d",
            "step": 1,
            "style": "IPY_MODEL_1f652f0bddf349f9a26667f15667d89b",
            "value": 24999
          }
        },
        "4d071e49ee6f4d59864353257c1d666d": {
          "model_module": "@jupyter-widgets/controls",
          "model_name": "ButtonModel",
          "model_module_version": "1.5.0",
          "state": {
            "_dom_classes": [],
            "_model_module": "@jupyter-widgets/controls",
            "_model_module_version": "1.5.0",
            "_model_name": "ButtonModel",
            "_view_count": null,
            "_view_module": "@jupyter-widgets/controls",
            "_view_module_version": "1.5.0",
            "_view_name": "ButtonView",
            "button_style": "",
            "description": "Run Interact",
            "disabled": false,
            "icon": "",
            "layout": "IPY_MODEL_6dfad2f6505e466f8ac1ee9ad0170900",
            "style": "IPY_MODEL_1a2bfb30b5cf414bb7f336caa94b8dd5",
            "tooltip": ""
          }
        },
        "dc349979f3af44a5a3f47187c9c91f1c": {
          "model_module": "@jupyter-widgets/output",
          "model_name": "OutputModel",
          "model_module_version": "1.0.0",
          "state": {
            "_dom_classes": [],
            "_model_module": "@jupyter-widgets/output",
            "_model_module_version": "1.0.0",
            "_model_name": "OutputModel",
            "_view_count": null,
            "_view_module": "@jupyter-widgets/output",
            "_view_module_version": "1.0.0",
            "_view_name": "OutputView",
            "layout": "IPY_MODEL_389666d76c1b45b1be79aa4de4e4f008",
            "msg_id": "",
            "outputs": [
              {
                "output_type": "stream",
                "name": "stdout",
                "text": [
                  "predict score: 0.029\n",
                  "real score: 0\n",
                  "details:? a good ol' boy film is almost required to have moonshine car chases a storyline that has a vague resemblance to plot and at least one very pretty country gal barefoot with short shorts and a low top the pretty gal is here dressed in designer jeans but the redneck ? stop there jimmy dean is a natural as a sausage spokesman but as a tough guy former sheriff he comes up way short big john is big but he isn't convincing with the bad part of his moniker bug eyed jack elam is a hoot as always and bo hopkins has been playing this same part for decades ned beatty also does his part in a small role but there is no story it smells more like an episode of in the heat of the night than a feature film cornball with easily predictable sentiment perhaps the most glaring problem with this movie is charlie daniels singing the theme you know the one it was made famous by jimmy dean\n"
                ]
              }
            ]
          }
        },
        "5c99bef79ab6457785b08569df39d1d4": {
          "model_module": "@jupyter-widgets/base",
          "model_name": "LayoutModel",
          "model_module_version": "1.2.0",
          "state": {
            "_model_module": "@jupyter-widgets/base",
            "_model_module_version": "1.2.0",
            "_model_name": "LayoutModel",
            "_view_count": null,
            "_view_module": "@jupyter-widgets/base",
            "_view_module_version": "1.2.0",
            "_view_name": "LayoutView",
            "align_content": null,
            "align_items": null,
            "align_self": null,
            "border": null,
            "bottom": null,
            "display": null,
            "flex": null,
            "flex_flow": null,
            "grid_area": null,
            "grid_auto_columns": null,
            "grid_auto_flow": null,
            "grid_auto_rows": null,
            "grid_column": null,
            "grid_gap": null,
            "grid_row": null,
            "grid_template_areas": null,
            "grid_template_columns": null,
            "grid_template_rows": null,
            "height": null,
            "justify_content": null,
            "justify_items": null,
            "left": null,
            "margin": null,
            "max_height": null,
            "max_width": null,
            "min_height": null,
            "min_width": null,
            "object_fit": null,
            "object_position": null,
            "order": null,
            "overflow": null,
            "overflow_x": null,
            "overflow_y": null,
            "padding": null,
            "right": null,
            "top": null,
            "visibility": null,
            "width": null
          }
        },
        "76a5c7be1d334b978f827bd0fca17ef3": {
          "model_module": "@jupyter-widgets/base",
          "model_name": "LayoutModel",
          "model_module_version": "1.2.0",
          "state": {
            "_model_module": "@jupyter-widgets/base",
            "_model_module_version": "1.2.0",
            "_model_name": "LayoutModel",
            "_view_count": null,
            "_view_module": "@jupyter-widgets/base",
            "_view_module_version": "1.2.0",
            "_view_name": "LayoutView",
            "align_content": null,
            "align_items": null,
            "align_self": null,
            "border": null,
            "bottom": null,
            "display": null,
            "flex": null,
            "flex_flow": null,
            "grid_area": null,
            "grid_auto_columns": null,
            "grid_auto_flow": null,
            "grid_auto_rows": null,
            "grid_column": null,
            "grid_gap": null,
            "grid_row": null,
            "grid_template_areas": null,
            "grid_template_columns": null,
            "grid_template_rows": null,
            "height": null,
            "justify_content": null,
            "justify_items": null,
            "left": null,
            "margin": null,
            "max_height": null,
            "max_width": null,
            "min_height": null,
            "min_width": null,
            "object_fit": null,
            "object_position": null,
            "order": null,
            "overflow": null,
            "overflow_x": null,
            "overflow_y": null,
            "padding": null,
            "right": null,
            "top": null,
            "visibility": null,
            "width": null
          }
        },
        "1f652f0bddf349f9a26667f15667d89b": {
          "model_module": "@jupyter-widgets/controls",
          "model_name": "SliderStyleModel",
          "model_module_version": "1.5.0",
          "state": {
            "_model_module": "@jupyter-widgets/controls",
            "_model_module_version": "1.5.0",
            "_model_name": "SliderStyleModel",
            "_view_count": null,
            "_view_module": "@jupyter-widgets/base",
            "_view_module_version": "1.2.0",
            "_view_name": "StyleView",
            "description_width": "",
            "handle_color": null
          }
        },
        "6dfad2f6505e466f8ac1ee9ad0170900": {
          "model_module": "@jupyter-widgets/base",
          "model_name": "LayoutModel",
          "model_module_version": "1.2.0",
          "state": {
            "_model_module": "@jupyter-widgets/base",
            "_model_module_version": "1.2.0",
            "_model_name": "LayoutModel",
            "_view_count": null,
            "_view_module": "@jupyter-widgets/base",
            "_view_module_version": "1.2.0",
            "_view_name": "LayoutView",
            "align_content": null,
            "align_items": null,
            "align_self": null,
            "border": null,
            "bottom": null,
            "display": null,
            "flex": null,
            "flex_flow": null,
            "grid_area": null,
            "grid_auto_columns": null,
            "grid_auto_flow": null,
            "grid_auto_rows": null,
            "grid_column": null,
            "grid_gap": null,
            "grid_row": null,
            "grid_template_areas": null,
            "grid_template_columns": null,
            "grid_template_rows": null,
            "height": null,
            "justify_content": null,
            "justify_items": null,
            "left": null,
            "margin": null,
            "max_height": null,
            "max_width": null,
            "min_height": null,
            "min_width": null,
            "object_fit": null,
            "object_position": null,
            "order": null,
            "overflow": null,
            "overflow_x": null,
            "overflow_y": null,
            "padding": null,
            "right": null,
            "top": null,
            "visibility": null,
            "width": null
          }
        },
        "1a2bfb30b5cf414bb7f336caa94b8dd5": {
          "model_module": "@jupyter-widgets/controls",
          "model_name": "ButtonStyleModel",
          "model_module_version": "1.5.0",
          "state": {
            "_model_module": "@jupyter-widgets/controls",
            "_model_module_version": "1.5.0",
            "_model_name": "ButtonStyleModel",
            "_view_count": null,
            "_view_module": "@jupyter-widgets/base",
            "_view_module_version": "1.2.0",
            "_view_name": "StyleView",
            "button_color": null,
            "font_weight": ""
          }
        },
        "389666d76c1b45b1be79aa4de4e4f008": {
          "model_module": "@jupyter-widgets/base",
          "model_name": "LayoutModel",
          "model_module_version": "1.2.0",
          "state": {
            "_model_module": "@jupyter-widgets/base",
            "_model_module_version": "1.2.0",
            "_model_name": "LayoutModel",
            "_view_count": null,
            "_view_module": "@jupyter-widgets/base",
            "_view_module_version": "1.2.0",
            "_view_name": "LayoutView",
            "align_content": null,
            "align_items": null,
            "align_self": null,
            "border": null,
            "bottom": null,
            "display": null,
            "flex": null,
            "flex_flow": null,
            "grid_area": null,
            "grid_auto_columns": null,
            "grid_auto_flow": null,
            "grid_auto_rows": null,
            "grid_column": null,
            "grid_gap": null,
            "grid_row": null,
            "grid_template_areas": null,
            "grid_template_columns": null,
            "grid_template_rows": null,
            "height": null,
            "justify_content": null,
            "justify_items": null,
            "left": null,
            "margin": null,
            "max_height": null,
            "max_width": null,
            "min_height": null,
            "min_width": null,
            "object_fit": null,
            "object_position": null,
            "order": null,
            "overflow": null,
            "overflow_x": null,
            "overflow_y": null,
            "padding": null,
            "right": null,
            "top": null,
            "visibility": null,
            "width": null
          }
        }
      }
    }
  },
  "cells": [
    {
      "cell_type": "markdown",
      "metadata": {
        "id": "view-in-github",
        "colab_type": "text"
      },
      "source": [
        "<a href=\"https://colab.research.google.com/github/raamiiChu/111-1_NCCU_DCT_3D_Game_Programming_G2/blob/main/0502_%E4%BD%9C%E6%A5%AD/%E6%A8%A1%E5%9E%8B%E8%A8%93%E7%B7%B4.ipynb\" target=\"_parent\"><img src=\"https://colab.research.google.com/assets/colab-badge.svg\" alt=\"Open In Colab\"/></a>"
      ]
    },
    {
      "cell_type": "markdown",
      "source": [
        "# <font color=#FF3030>更改處皆以紅色字體標示在對應程式碼上方</font>"
      ],
      "metadata": {
        "id": "N2T6vAOUHhTm"
      }
    },
    {
      "cell_type": "markdown",
      "source": [
        "### 更改概要"
      ],
      "metadata": {
        "id": "VCgsL1XyHjKV"
      }
    },
    {
      "cell_type": "markdown",
      "source": [
        "1. 讀入 ipywidgets 的 interact_manual \n",
        "1. num_words 修改為 30000\n",
        "1. 檢視原來的文字內容\n",
        "1. maxlen 修改為 250\n",
        "1. Embedding 修改為 (30000, 256)\n",
        "1. 新增一層 LSTM，神經元數目為 256，return_sequences = True\n",
        "1. 原 LSTM 的神經元數目修改為 256，return_sequences = False\n",
        "1. loss function 修改為 \"mse\"\n",
        "1. epochs 修改為 3\n",
        "1. 使用 interact_manual 來測試"
      ],
      "metadata": {
        "id": "qur3IyjTHqsA"
      }
    },
    {
      "cell_type": "markdown",
      "metadata": {
        "id": "pU0MI3Jm-vej"
      },
      "source": [
        "### 1. 讀入模組"
      ]
    },
    {
      "cell_type": "code",
      "metadata": {
        "id": "P3yNYyYU-veg"
      },
      "source": [
        "%matplotlib inline\n",
        "\n",
        "import numpy as np\n",
        "import pandas as pd\n",
        "import matplotlib.pyplot as plt"
      ],
      "execution_count": null,
      "outputs": []
    },
    {
      "cell_type": "code",
      "metadata": {
        "id": "yGQHjFkg-vek"
      },
      "source": [
        "from tensorflow.keras.preprocessing import sequence\n",
        "from tensorflow.keras.models import Sequential\n",
        "from tensorflow.keras.layers import Dense, Embedding\n",
        "from tensorflow.keras.layers import LSTM"
      ],
      "execution_count": null,
      "outputs": []
    },
    {
      "cell_type": "markdown",
      "source": [
        "<font color=#FF3030>讀入 interact_manual</font>"
      ],
      "metadata": {
        "id": "Dm3FqDn5H0bB"
      }
    },
    {
      "cell_type": "code",
      "source": [
        "from tensorflow.keras.datasets import imdb\n",
        "from tensorflow.keras.datasets.imdb import get_word_index\n",
        "\n",
        "from ipywidgets import interact_manual"
      ],
      "metadata": {
        "id": "t6RPV5Vv5cR0"
      },
      "execution_count": null,
      "outputs": []
    },
    {
      "cell_type": "markdown",
      "metadata": {
        "id": "upzJSb2Y-vek"
      },
      "source": [
        "### 2. 讀入數據\n",
        "\n"
      ]
    },
    {
      "cell_type": "markdown",
      "source": [
        "一般自然語言處理, 我們會限制最大要使用的字數。"
      ],
      "metadata": {
        "id": "P4MjjvCDIErS"
      }
    },
    {
      "cell_type": "markdown",
      "source": [
        "<font color=#FF3030>num_words 修改為 30000</font>"
      ],
      "metadata": {
        "id": "uAco_SL5IFLX"
      }
    },
    {
      "cell_type": "code",
      "metadata": {
        "id": "TMRJOWWD-vek"
      },
      "source": [
        "(x_train, y_train), (x_test, y_test) = imdb.load_data(num_words=30000)"
      ],
      "execution_count": null,
      "outputs": []
    },
    {
      "cell_type": "code",
      "metadata": {
        "id": "O1ewtpvu-vel",
        "colab": {
          "base_uri": "https://localhost:8080/"
        },
        "outputId": "6fd71ac7-edab-4d6e-d4b2-d2df8afa3c90"
      },
      "source": [
        "print(len(x_train), len(x_test), sep=\" | \")"
      ],
      "execution_count": null,
      "outputs": [
        {
          "output_type": "stream",
          "name": "stdout",
          "text": [
            "25000 | 25000\n"
          ]
        }
      ]
    },
    {
      "cell_type": "markdown",
      "metadata": {
        "id": "q2HndB0cAH_d"
      },
      "source": [
        "注意每筆評論的長度當然是不一樣的。"
      ]
    },
    {
      "cell_type": "code",
      "metadata": {
        "id": "_SFQH8rg-vem",
        "colab": {
          "base_uri": "https://localhost:8080/"
        },
        "outputId": "5851a6ea-2fd2-42eb-a0d7-9afbc0c9a371"
      },
      "source": [
        "print(len(x_train[0]), len(x_train[1]), sep=\" | \")"
      ],
      "execution_count": null,
      "outputs": [
        {
          "output_type": "stream",
          "name": "stdout",
          "text": [
            "218 | 189\n"
          ]
        }
      ]
    },
    {
      "cell_type": "code",
      "metadata": {
        "id": "TwmfAdEm-ven",
        "colab": {
          "base_uri": "https://localhost:8080/"
        },
        "outputId": "97e72876-44c4-4fe9-83c5-02ead5a8afe4"
      },
      "source": [
        "print(y_train[0], y_train[1], sep=\" | \")"
      ],
      "execution_count": null,
      "outputs": [
        {
          "output_type": "stream",
          "name": "stdout",
          "text": [
            "1 | 0\n"
          ]
        }
      ]
    },
    {
      "cell_type": "markdown",
      "source": [
        "<font color=#FF3030>檢視原來的文字內容</font>\n",
        "\n",
        "[程式碼參考來源](https://stackoverflow.com/questions/42821330/restore-original-text-from-keras-s-imdb-dataset)"
      ],
      "metadata": {
        "id": "3KlDJ2Wy8XoH"
      }
    },
    {
      "cell_type": "code",
      "source": [
        "# word_index ---- {單字:索引值}\n",
        "word_index = get_word_index()"
      ],
      "metadata": {
        "id": "fCARQ2iKtSm9"
      },
      "execution_count": null,
      "outputs": []
    },
    {
      "cell_type": "code",
      "source": [
        "def decoding(num:int) -> str:\n",
        "    # 逐一拿取索引值，獲取對應單字，若找不到則以 \"?\" 代替\n",
        "    return \" \".join([reverse_word_index.get(i - 3, '?') for i in x_train[num]])\n",
        "\n",
        "# reverse_word_index ---- {索引值:單字}\n",
        "reverse_word_index = dict([(value, key) for (key, value) in word_index.items()])"
      ],
      "metadata": {
        "id": "v5rfUmob8i32"
      },
      "execution_count": null,
      "outputs": []
    },
    {
      "cell_type": "code",
      "source": [
        "interact_manual(decoding, num=(0,24999));"
      ],
      "metadata": {
        "colab": {
          "base_uri": "https://localhost:8080/",
          "height": 154,
          "referenced_widgets": [
            "f4e1ea7da768467fbb3f39c54cf33adf",
            "b7f7ccb7cfef493d83f9f0b25be7b23c",
            "0146a40e356c491998f0732f48d56a26",
            "484091fc72664b04a3e0e6a013eb5fa1",
            "d8b143df15bb4bc79fbffa9ea5a364cc",
            "f7ae1140599646199839a527f80db124",
            "91db31930d0c4b1e90db6d0282e08e0a",
            "b8e37244f4cd45e584114229afff1448",
            "0976235c8f064cabb316d5dfa5e40fa7",
            "54731404694648ffb67a015555172b77"
          ]
        },
        "id": "BSddHnM85Q3L",
        "outputId": "1fdde23e-859c-424d-8982-ab28e962e93f"
      },
      "execution_count": null,
      "outputs": [
        {
          "output_type": "display_data",
          "data": {
            "text/plain": [
              "interactive(children=(IntSlider(value=12499, description='num', max=24999), Button(description='Run Interact',…"
            ],
            "application/vnd.jupyter.widget-view+json": {
              "version_major": 2,
              "version_minor": 0,
              "model_id": "f4e1ea7da768467fbb3f39c54cf33adf"
            }
          },
          "metadata": {}
        }
      ]
    },
    {
      "cell_type": "markdown",
      "metadata": {
        "id": "kY0bt0Mv-veo"
      },
      "source": [
        "### 3. 資料處理\n",
        "\n"
      ]
    },
    {
      "cell_type": "markdown",
      "source": [
        "雖然我們可以做真的 seq2seq, 可是資料長度不一樣對計算上有麻煩, 因此平常還是會固定一定長度, 其餘補 0。"
      ],
      "metadata": {
        "id": "u8algex0KVVo"
      }
    },
    {
      "cell_type": "markdown",
      "source": [
        "<font color=#FF3030>maxlen 修改為 250</font>"
      ],
      "metadata": {
        "id": "mWrFlkbKKWJt"
      }
    },
    {
      "cell_type": "code",
      "metadata": {
        "id": "ynXfhV0S-veo"
      },
      "source": [
        "x_train = sequence.pad_sequences(x_train, maxlen=250)\n",
        "x_test = sequence.pad_sequences(x_test, maxlen=250)"
      ],
      "execution_count": null,
      "outputs": []
    },
    {
      "cell_type": "markdown",
      "metadata": {
        "id": "gLw1t5YZ-vep"
      },
      "source": [
        "### 4. step 01: 打造一個函數學習機"
      ]
    },
    {
      "cell_type": "markdown",
      "source": [
        "- <font color=#FF3030>Embedding 修改為 (30000, 256)</font>\n",
        "- <font color=#FF3030>新增一層 LSTM，神經元數目為 256，return_sequences = True</font>\n",
        "- <font color=#FF3030>原 LSTM 的神經元數目修改為 256，return_sequences = False</font>"
      ],
      "metadata": {
        "id": "N8EljAw5Kh_D"
      }
    },
    {
      "cell_type": "code",
      "metadata": {
        "id": "T3WoAWzg-vep"
      },
      "source": [
        "model = Sequential()"
      ],
      "execution_count": null,
      "outputs": []
    },
    {
      "cell_type": "code",
      "metadata": {
        "id": "paCqtY9E-vep"
      },
      "source": [
        "model.add(Embedding(30000, 256))"
      ],
      "execution_count": null,
      "outputs": []
    },
    {
      "cell_type": "markdown",
      "source": [
        "return_sequences: 返回單個（False，默認值）或是多個（True） hidden state "
      ],
      "metadata": {
        "id": "e_OF3yyzMogr"
      }
    },
    {
      "cell_type": "code",
      "source": [
        "model.add(LSTM(256, return_sequences = True))"
      ],
      "metadata": {
        "id": "KPTyeRbgurf3"
      },
      "execution_count": null,
      "outputs": []
    },
    {
      "cell_type": "markdown",
      "source": [
        "與 Ouput Layer 做連接的 LSTM 的 return_sequences 要設定為 False\n",
        "（其實 return_sequences = False 可打可不打，因為默認值就是False）"
      ],
      "metadata": {
        "id": "qbhLAjkdLhXD"
      }
    },
    {
      "cell_type": "code",
      "metadata": {
        "id": "e3ZFi6IO-vep"
      },
      "source": [
        "model.add(LSTM(256, return_sequences = False))  "
      ],
      "execution_count": null,
      "outputs": []
    },
    {
      "cell_type": "code",
      "metadata": {
        "id": "WYMx8FF7-veq"
      },
      "source": [
        "model.add(Dense(1, activation='sigmoid'))"
      ],
      "execution_count": null,
      "outputs": []
    },
    {
      "cell_type": "markdown",
      "metadata": {
        "id": "XbmruxHeAxT8"
      },
      "source": [
        "#### 組裝"
      ]
    },
    {
      "cell_type": "markdown",
      "source": [
        "loss function 修改為 \"mse\""
      ],
      "metadata": {
        "id": "iKrhhlwRc5gs"
      }
    },
    {
      "cell_type": "code",
      "metadata": {
        "id": "Hc3kJo8u-veq"
      },
      "source": [
        "model.compile(loss='mse',\n",
        "             optimizer='adam',\n",
        "             metrics=['accuracy'])"
      ],
      "execution_count": null,
      "outputs": []
    },
    {
      "cell_type": "markdown",
      "metadata": {
        "id": "7_s0X6DHA6A-"
      },
      "source": [
        "#### 欣賞我們的 model"
      ]
    },
    {
      "cell_type": "code",
      "metadata": {
        "id": "vKwxPjN6-veq",
        "colab": {
          "base_uri": "https://localhost:8080/"
        },
        "outputId": "6a7061a6-4f21-4bdf-f79c-226ff10ed160"
      },
      "source": [
        "model.summary()"
      ],
      "execution_count": null,
      "outputs": [
        {
          "output_type": "stream",
          "name": "stdout",
          "text": [
            "Model: \"sequential\"\n",
            "_________________________________________________________________\n",
            " Layer (type)                Output Shape              Param #   \n",
            "=================================================================\n",
            " embedding (Embedding)       (None, None, 256)         7680000   \n",
            "                                                                 \n",
            " lstm (LSTM)                 (None, None, 256)         525312    \n",
            "                                                                 \n",
            " lstm_1 (LSTM)               (None, 256)               525312    \n",
            "                                                                 \n",
            " dense (Dense)               (None, 1)                 257       \n",
            "                                                                 \n",
            "=================================================================\n",
            "Total params: 8,730,881\n",
            "Trainable params: 8,730,881\n",
            "Non-trainable params: 0\n",
            "_________________________________________________________________\n"
          ]
        }
      ]
    },
    {
      "cell_type": "markdown",
      "metadata": {
        "id": "O19zWWcl-veq"
      },
      "source": [
        "### 5. step 02: 訓練"
      ]
    },
    {
      "cell_type": "markdown",
      "source": [
        "<font color=#FF3030>epochs 修改為 3</font>"
      ],
      "metadata": {
        "id": "XmbzNP-rmYnp"
      }
    },
    {
      "cell_type": "code",
      "metadata": {
        "id": "iIL00x1u-veq",
        "colab": {
          "base_uri": "https://localhost:8080/"
        },
        "outputId": "33d9424e-204d-4acc-b8c5-0be7a070b7fd"
      },
      "source": [
        "model.fit(x_train, y_train, batch_size=32, epochs=3,\n",
        "         validation_data=(x_test, y_test))"
      ],
      "execution_count": null,
      "outputs": [
        {
          "output_type": "stream",
          "name": "stdout",
          "text": [
            "Epoch 1/3\n",
            "782/782 [==============================] - 151s 187ms/step - loss: 0.1778 - accuracy: 0.7324 - val_loss: 0.1347 - val_accuracy: 0.8174\n",
            "Epoch 2/3\n",
            "782/782 [==============================] - 145s 186ms/step - loss: 0.1247 - accuracy: 0.8259 - val_loss: 0.1023 - val_accuracy: 0.8649\n",
            "Epoch 3/3\n",
            "782/782 [==============================] - 145s 185ms/step - loss: 0.0575 - accuracy: 0.9249 - val_loss: 0.0987 - val_accuracy: 0.8667\n"
          ]
        },
        {
          "output_type": "execute_result",
          "data": {
            "text/plain": [
              "<keras.callbacks.History at 0x7f54e383dd90>"
            ]
          },
          "metadata": {},
          "execution_count": 19
        }
      ]
    },
    {
      "cell_type": "markdown",
      "metadata": {
        "id": "qQ9uuTiji5ya"
      },
      "source": [
        "### 6. step 03: 測試"
      ]
    },
    {
      "cell_type": "markdown",
      "source": [
        "<font color=#FF3030>使用 interact_manual 來測試</font>"
      ],
      "metadata": {
        "id": "RMjDOYazlKsu"
      }
    },
    {
      "cell_type": "markdown",
      "source": [
        "##### 自行輸入評論"
      ],
      "metadata": {
        "id": "jPLBfzQl_myh"
      }
    },
    {
      "cell_type": "code",
      "metadata": {
        "id": "F5SAz0wikLFt"
      },
      "source": [
        "#text = \"this movie is worth seeing\"\n",
        "#text = \"could of been so much better if properly cast directed and a better script\"\n",
        "#text = \"do not watch this movie\""
      ],
      "execution_count": null,
      "outputs": []
    },
    {
      "cell_type": "code",
      "source": [
        "def positive_or_negative(text:str) -> str:\n",
        "    seq = [word_index[x] for x in text.split() if x in word_index]\n",
        "    return f\"score: {model.predict([seq])[0][0]:.3f}\""
      ],
      "metadata": {
        "id": "N6Mcb9q-39I3"
      },
      "execution_count": null,
      "outputs": []
    },
    {
      "cell_type": "code",
      "source": [
        "interact_manual(positive_or_negative, text=\"Please type your comment here\");"
      ],
      "metadata": {
        "id": "J4a3HuYf4ZaI",
        "colab": {
          "base_uri": "https://localhost:8080/",
          "height": 100,
          "referenced_widgets": [
            "cc6067f6c9f04cac8e6bbea51effabf0",
            "8d2fa3032a194ed3985e10eb49c82058",
            "fe1089af1c8c495d9cb3b552b35b81ef",
            "1c837fc2fbf64be18ec83b8bb3b7564c",
            "9da12cbf637b4654acab7b2699c78ad0",
            "28d0ff67401b42c1ac58c96b2dac9244",
            "7990c332c28c47258008e9d434e8561f",
            "4ea7a05635784209a2bc2a9fa29d1448",
            "b5ac82287dc04c0787c3e7665981c313",
            "f691f6560e7348a2b5210a1e2dfa6e6f"
          ]
        },
        "outputId": "066f3df2-e2b2-4f73-af93-c1db53f3e555"
      },
      "execution_count": null,
      "outputs": [
        {
          "output_type": "display_data",
          "data": {
            "text/plain": [
              "interactive(children=(Text(value='Please type your comment here', description='text'), Button(description='Run…"
            ],
            "application/vnd.jupyter.widget-view+json": {
              "version_major": 2,
              "version_minor": 0,
              "model_id": "cc6067f6c9f04cac8e6bbea51effabf0"
            }
          },
          "metadata": {}
        }
      ]
    },
    {
      "cell_type": "markdown",
      "source": [
        "##### 使用測試資料輸入評論"
      ],
      "metadata": {
        "id": "5CX5z6xG_qJs"
      }
    },
    {
      "cell_type": "code",
      "source": [
        "def test_x_text(num:int) -> None:\n",
        "    text = \" \".join([reverse_word_index.get(i - 3, '?') for i in x_test[num] if i != 0])\n",
        "    seq = [word_index[x] for x in text.split() if x in word_index]\n",
        "    print(f\"predict score: {model.predict([seq])[0][0]:.3f}\", \n",
        "          f\"real score: {y_test[num]}\", \n",
        "          f\"details:{text}\", sep=\"\\n\")\n",
        "\n",
        "reverse_word_index = dict([(value, key) for (key, value) in word_index.items()])"
      ],
      "metadata": {
        "id": "25vXGAHB-bMi"
      },
      "execution_count": null,
      "outputs": []
    },
    {
      "cell_type": "code",
      "source": [
        "interact_manual(test_x_text, num=(0,24999));"
      ],
      "metadata": {
        "id": "kTpN1gvc-zXj",
        "colab": {
          "base_uri": "https://localhost:8080/",
          "height": 152,
          "referenced_widgets": [
            "45c472dd5b0a486cbb99c2486d24494b",
            "6b49aa992107453d91f66f62452b52e1",
            "4d071e49ee6f4d59864353257c1d666d",
            "dc349979f3af44a5a3f47187c9c91f1c",
            "5c99bef79ab6457785b08569df39d1d4",
            "76a5c7be1d334b978f827bd0fca17ef3",
            "1f652f0bddf349f9a26667f15667d89b",
            "6dfad2f6505e466f8ac1ee9ad0170900",
            "1a2bfb30b5cf414bb7f336caa94b8dd5",
            "389666d76c1b45b1be79aa4de4e4f008"
          ]
        },
        "outputId": "525bf383-065d-4b66-9d97-ecc6e1fa4626"
      },
      "execution_count": null,
      "outputs": [
        {
          "output_type": "display_data",
          "data": {
            "text/plain": [
              "interactive(children=(IntSlider(value=12499, description='num', max=24999), Button(description='Run Interact',…"
            ],
            "application/vnd.jupyter.widget-view+json": {
              "version_major": 2,
              "version_minor": 0,
              "model_id": "45c472dd5b0a486cbb99c2486d24494b"
            }
          },
          "metadata": {}
        }
      ]
    },
    {
      "cell_type": "markdown",
      "metadata": {
        "id": "qKNqM34x-ver"
      },
      "source": [
        "### 7. 換個存檔方式\n",
        "\n"
      ]
    },
    {
      "cell_type": "markdown",
      "source": [
        "這次是把 model 和訓練權重分開存, 使用上更有彈性。"
      ],
      "metadata": {
        "id": "zQ7b61D_mkxj"
      }
    },
    {
      "cell_type": "code",
      "metadata": {
        "id": "UkHz6PbACrg-",
        "colab": {
          "base_uri": "https://localhost:8080/"
        },
        "outputId": "18808486-32bc-4eae-d7ac-b8beb50b7964"
      },
      "source": [
        "from google.colab import drive\n",
        "\n",
        "drive.mount('/content/drive')"
      ],
      "execution_count": null,
      "outputs": [
        {
          "output_type": "stream",
          "name": "stdout",
          "text": [
            "Drive already mounted at /content/drive; to attempt to forcibly remount, call drive.mount(\"/content/drive\", force_remount=True).\n"
          ]
        }
      ]
    },
    {
      "cell_type": "code",
      "metadata": {
        "id": "2puuhaa-C0-Q",
        "colab": {
          "base_uri": "https://localhost:8080/"
        },
        "outputId": "417c1e31-5833-48bd-eee1-085bab8e6b41"
      },
      "source": [
        "%cd '/content/drive/My Drive/Colab Notebooks/數學軟體應用/作業/0502 作業/'"
      ],
      "execution_count": null,
      "outputs": [
        {
          "output_type": "stream",
          "name": "stdout",
          "text": [
            "/content/drive/My Drive/Colab Notebooks/數學軟體應用/作業/0502 作業\n"
          ]
        }
      ]
    },
    {
      "cell_type": "code",
      "source": [
        "model.save(\"imdb_model\")"
      ],
      "metadata": {
        "id": "v3tFBYXT7K6g",
        "colab": {
          "base_uri": "https://localhost:8080/"
        },
        "outputId": "bf180827-20c0-40d3-bdd0-9294ac671b1b"
      },
      "execution_count": null,
      "outputs": [
        {
          "output_type": "stream",
          "name": "stderr",
          "text": [
            "WARNING:absl:Found untraced functions such as lstm_cell_layer_call_fn, lstm_cell_layer_call_and_return_conditional_losses, lstm_cell_1_layer_call_fn, lstm_cell_1_layer_call_and_return_conditional_losses while saving (showing 4 of 4). These functions will not be directly callable after loading.\n"
          ]
        },
        {
          "output_type": "stream",
          "name": "stdout",
          "text": [
            "INFO:tensorflow:Assets written to: imdb_model/assets\n"
          ]
        },
        {
          "output_type": "stream",
          "name": "stderr",
          "text": [
            "INFO:tensorflow:Assets written to: imdb_model/assets\n",
            "WARNING:absl:<keras.layers.recurrent.LSTMCell object at 0x7f54e5239950> has the same name 'LSTMCell' as a built-in Keras object. Consider renaming <class 'keras.layers.recurrent.LSTMCell'> to avoid naming conflicts when loading with `tf.keras.models.load_model`. If renaming is not possible, pass the object in the `custom_objects` parameter of the load function.\n",
            "WARNING:absl:<keras.layers.recurrent.LSTMCell object at 0x7f54e937c250> has the same name 'LSTMCell' as a built-in Keras object. Consider renaming <class 'keras.layers.recurrent.LSTMCell'> to avoid naming conflicts when loading with `tf.keras.models.load_model`. If renaming is not possible, pass the object in the `custom_objects` parameter of the load function.\n"
          ]
        }
      ]
    },
    {
      "cell_type": "code",
      "metadata": {
        "id": "DTbM9T7A-ver"
      },
      "source": [
        "model_json = model.to_json()\n",
        "open('imdb_model_architecture.json', 'w').write(model_json)\n",
        "model.save_weights('ismdb_model_weights.h5')"
      ],
      "execution_count": null,
      "outputs": []
    }
  ]
}